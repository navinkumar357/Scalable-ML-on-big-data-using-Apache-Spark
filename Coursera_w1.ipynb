{
    "cells": [
        {
            "cell_type": "markdown",
            "metadata": {},
            "source": "This notebook is designed to run in a IBM Watson Studio default runtime (NOT the Watson Studio Apache Spark Runtime as the default runtime with 1 vCPU is free of charge). Therefore, we install Apache Spark in local mode for test purposes only. Please don't use it in production.\n\nIn case you are facing issues, please read the following two documents first:\n\nhttps://github.com/IBM/skillsnetwork/wiki/Environment-Setup\n\nhttps://github.com/IBM/skillsnetwork/wiki/FAQ\n\nThen, please feel free to ask:\n\nhttps://coursera.org/learn/machine-learning-big-data-apache-spark/discussions/all\n\nPlease make sure to follow the guidelines before asking a question:\n\nhttps://github.com/IBM/skillsnetwork/wiki/FAQ#im-feeling-lost-and-confused-please-help-me\n\n\nIf running outside Watson Studio, this should work as well. In case you are running in an Apache Spark context outside Watson Studio, please remove the Apache Spark setup in the first notebook cells."
        },
        {
            "cell_type": "code",
            "execution_count": 1,
            "metadata": {},
            "outputs": [],
            "source": "from IPython.display import Markdown, display\ndef printmd(string):\n    display(Markdown('# <span style=\"color:red\">'+string+'</span>'))\n\n\nif ('sc' in locals() or 'sc' in globals()):\n    printmd('<<<<<!!!!! It seems that you are running in a IBM Watson Studio Apache Spark Notebook. Please run it in an IBM Watson Studio Default Runtime (without Apache Spark) !!!!!>>>>>')\n"
        },
        {
            "cell_type": "code",
            "execution_count": 2,
            "metadata": {},
            "outputs": [
                {
                    "name": "stdout",
                    "output_type": "stream",
                    "text": "Requirement already satisfied: pyspark==2.4.5 in /opt/conda/envs/Python36/lib/python3.6/site-packages (2.4.5)\nRequirement already satisfied: py4j==0.10.7 in /opt/conda/envs/Python36/lib/python3.6/site-packages (from pyspark==2.4.5) (0.10.7)\n"
                }
            ],
            "source": "!pip install pyspark==2.4.5"
        },
        {
            "cell_type": "code",
            "execution_count": 3,
            "metadata": {},
            "outputs": [],
            "source": "try:\n    from pyspark import SparkContext, SparkConf\n    from pyspark.sql import SparkSession\nexcept ImportError as e:\n    printmd('<<<<<!!!!! Please restart your kernel after installing Apache Spark !!!!!>>>>>')"
        },
        {
            "cell_type": "code",
            "execution_count": 4,
            "metadata": {},
            "outputs": [],
            "source": "sc = SparkContext.getOrCreate(SparkConf().setMaster(\"local[*]\"))\n\nspark = SparkSession \\\n    .builder \\\n    .getOrCreate()"
        },
        {
            "cell_type": "markdown",
            "metadata": {
                "collapsed": true
            },
            "source": "Welcome to exercise two of \u201cApache Spark for Scalable Machine Learning on BigData\u201d. In this exercise you\u2019ll apply the basics of functional and parallel programming. \n\nAgain, please use the following two links for your reference:\nhttps://spark.apache.org/docs/latest/api/python/pyspark.html#pyspark.RDD\nhttps://spark.apache.org/docs/latest/rdd-programming-guide.html\n\nLet\u2019s actually create a python function which decides whether a value is greater than 50 (True) or not (False)."
        },
        {
            "cell_type": "code",
            "execution_count": 5,
            "metadata": {},
            "outputs": [],
            "source": "def gt50(i):\n    if i > 50:\n        return True\n    else:\n        return False"
        },
        {
            "cell_type": "code",
            "execution_count": 6,
            "metadata": {},
            "outputs": [
                {
                    "name": "stdout",
                    "output_type": "stream",
                    "text": "False\nTrue\n"
                }
            ],
            "source": "print(gt50(4))\nprint(gt50(51))"
        },
        {
            "cell_type": "markdown",
            "metadata": {},
            "source": "Let\u2019s simplify this function"
        },
        {
            "cell_type": "code",
            "execution_count": 7,
            "metadata": {},
            "outputs": [],
            "source": "def gt50(i):\n    return i > 50"
        },
        {
            "cell_type": "code",
            "execution_count": 8,
            "metadata": {},
            "outputs": [
                {
                    "name": "stdout",
                    "output_type": "stream",
                    "text": "False\nTrue\n"
                }
            ],
            "source": "print(gt50(4))\nprint(gt50(51))"
        },
        {
            "cell_type": "markdown",
            "metadata": {},
            "source": "Now let\u2019s use the lambda notation to define the function."
        },
        {
            "cell_type": "code",
            "execution_count": 9,
            "metadata": {},
            "outputs": [],
            "source": "gt50 = lambda i: i > 50"
        },
        {
            "cell_type": "code",
            "execution_count": 10,
            "metadata": {},
            "outputs": [
                {
                    "name": "stdout",
                    "output_type": "stream",
                    "text": "False\nTrue\n"
                }
            ],
            "source": "print(gt50(4))\nprint(gt50(51))"
        },
        {
            "cell_type": "code",
            "execution_count": 11,
            "metadata": {},
            "outputs": [],
            "source": "#let's shuffle our list to make it a bit more interesting\nfrom random import shuffle\nl = list(range(100))\nshuffle(l)\nrdd = sc.parallelize(l)"
        },
        {
            "cell_type": "markdown",
            "metadata": {},
            "source": "Let\u2019s filter values from our list which are equals or less than 50 by applying our \u201cgt50\u201d function to the list using the \u201cfilter\u201d function. Note that by calling the \u201ccollect\u201d function, all elements are returned to the Apache Spark Driver. This is not a good idea for BigData, please use \u201c.sample(10,0.1).collect()\u201d or \u201ctake(n)\u201d instead."
        },
        {
            "cell_type": "code",
            "execution_count": 12,
            "metadata": {},
            "outputs": [
                {
                    "data": {
                        "text/plain": "[74,\n 63,\n 84,\n 69,\n 58,\n 53,\n 60,\n 80,\n 51,\n 59,\n 79,\n 71,\n 55,\n 75,\n 67,\n 88,\n 70,\n 87,\n 90,\n 54,\n 66,\n 52,\n 77,\n 82,\n 86,\n 65,\n 92,\n 83,\n 56,\n 96,\n 89,\n 93,\n 61,\n 81,\n 97,\n 98,\n 91,\n 78,\n 99,\n 73,\n 68,\n 72,\n 94,\n 95,\n 57,\n 64,\n 62,\n 85,\n 76]"
                    },
                    "execution_count": 12,
                    "metadata": {},
                    "output_type": "execute_result"
                }
            ],
            "source": "rdd.filter(gt50).collect()"
        },
        {
            "cell_type": "markdown",
            "metadata": {},
            "source": "We can also use the lambda function directly."
        },
        {
            "cell_type": "code",
            "execution_count": 13,
            "metadata": {},
            "outputs": [
                {
                    "data": {
                        "text/plain": "[74,\n 63,\n 84,\n 69,\n 58,\n 53,\n 60,\n 80,\n 51,\n 59,\n 79,\n 71,\n 55,\n 75,\n 67,\n 88,\n 70,\n 87,\n 90,\n 54,\n 66,\n 52,\n 77,\n 82,\n 86,\n 65,\n 92,\n 83,\n 56,\n 96,\n 89,\n 93,\n 61,\n 81,\n 97,\n 98,\n 91,\n 78,\n 99,\n 73,\n 68,\n 72,\n 94,\n 95,\n 57,\n 64,\n 62,\n 85,\n 76]"
                    },
                    "execution_count": 13,
                    "metadata": {},
                    "output_type": "execute_result"
                }
            ],
            "source": "rdd.filter(lambda i: i > 50).collect()"
        },
        {
            "cell_type": "markdown",
            "metadata": {},
            "source": "Let\u2019s consider the same list of integers. Now we want to compute the sum for elements in that list which are greater than 50 but less than 75. Please implement the missing parts. "
        },
        {
            "cell_type": "code",
            "execution_count": 14,
            "metadata": {},
            "outputs": [
                {
                    "ename": "SyntaxError",
                    "evalue": "invalid syntax (<ipython-input-14-d3b0297dc35f>, line 1)",
                    "output_type": "error",
                    "traceback": [
                        "\u001b[0;36m  File \u001b[0;32m\"<ipython-input-14-d3b0297dc35f>\"\u001b[0;36m, line \u001b[0;32m1\u001b[0m\n\u001b[0;31m    rdd.filter(lambda x: $$).filter(lambda x: $$).$$()\u001b[0m\n\u001b[0m                         ^\u001b[0m\n\u001b[0;31mSyntaxError\u001b[0m\u001b[0;31m:\u001b[0m invalid syntax\n"
                    ]
                }
            ],
            "source": "rdd.filter(lambda x: x>50).filter(lambda x: x<75).$$()"
        },
        {
            "cell_type": "markdown",
            "metadata": {},
            "source": "You should see \"1500\" as answer. Now we want to know the sum of all elements. Please again, have a look at the API documentation and complete the code below in order to get the sum."
        }
    ],
    "metadata": {
        "kernelspec": {
            "display_name": "Python 3.6",
            "language": "python",
            "name": "python3"
        },
        "language_info": {
            "codemirror_mode": {
                "name": "ipython",
                "version": 3
            },
            "file_extension": ".py",
            "mimetype": "text/x-python",
            "name": "python",
            "nbconvert_exporter": "python",
            "pygments_lexer": "ipython3",
            "version": "3.6.9"
        }
    },
    "nbformat": 4,
    "nbformat_minor": 1
}